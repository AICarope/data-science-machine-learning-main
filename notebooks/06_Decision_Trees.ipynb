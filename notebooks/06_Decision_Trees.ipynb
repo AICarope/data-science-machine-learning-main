{
 "cells": [
  {
   "cell_type": "code",
   "execution_count": 3,
   "metadata": {},
   "outputs": [],
   "source": [
    "import numpy as np\n",
    "import pandas as pd\n",
    "import matplotlib.pyplot as plt\n",
    "\n",
    "#preprocessing\n",
    "from sklearn.preprocessing import StandardScaler, MinMaxScaler\n",
    "\n",
    "# classifier we will use\n",
    "from sklearn.tree import DecisionTreeClassifier\n",
    "\n",
    "# model selection bits\n",
    "from sklearn.model_selection import train_test_split\n",
    "\n",
    "# evaluation\n",
    "from sklearn.metrics import f1_score\n",
    "from sklearn.metrics import accuracy_score\n"
   ]
  },
  {
   "cell_type": "markdown",
   "metadata": {},
   "source": [
    "# Detecting Spam with Decision Trees\n",
    "\n",
    "In this assignment you will detect spam with decision trees. It's always important to investigate the data that you are using for any project. Since data is our gold mine, it's our oil that powers our models we need to have good quality data. Machine learning follows the \"garbage in, garbage out\" principle, if we feed in bad data for training, we will get a model that produces bad results.  For these reasons we want to answer the following questions.\n",
    "\n",
    "## 0.  Learn about the data\n",
    "\n",
    "1. Where did this data come from?\n",
    "2. Who made it?\n",
    "3. How were the features selected?\n",
    "4. Can you trust it?\n",
    "\n",
    "Go ahead and scan through the spambase_features.txt file and the spambase.txt file.  These two files provide information about the dataset, how it was curated and where it came from. Then try to answer the above questions.\n",
    "\n",
    "\n",
    "## 1. Load the data"
   ]
  },
  {
   "cell_type": "code",
   "execution_count": 4,
   "metadata": {},
   "outputs": [],
   "source": [
    "#1. data came form the UCI MI repository\n",
    "#2. Mark Hopkins, Erik Reeber, George Forman, Jaap Suermondt from Hewlett-Packard Labs in 1998. Collected the spam from the postmaster of HP who had manually labeled each spam. the non spam are their own work emails.#3. \n",
    "#3. Feautures are the entire representation of the data set. However, there is not information, except:\n",
    "    #48 contnuious feautures lie in range of [0,100] of the type fo 'word_freq'. \n",
    "     #6 continuous [0,100] called 'char_freq'\n",
    "    #average length of uniterrupted capital letters\n",
    "    # length of longest uninterrupted capital letters\n",
    "    #sum of length of uninterrupted sequences of capital letters\n",
    "#4. will try and analyize, as we dont have the raw original data. The data comes form aggoodo source an dhas been in research papers."
   ]
  },
  {
   "cell_type": "code",
   "execution_count": 5,
   "metadata": {},
   "outputs": [],
   "source": [
    "## we are going to hardcode the column names, because this just makes it a little easier to use pandas.\n",
    "\n",
    "names = ['word_freq_make:        ',\n",
    "'word_freq_address:     ',\n",
    "'word_freq_all:         ',\n",
    "'word_freq_3d:          ',\n",
    "'word_freq_our:         ',\n",
    "'word_freq_over:        ',\n",
    "'word_freq_remove:      ',\n",
    "'word_freq_internet:    ',\n",
    "'word_freq_order:       ',\n",
    "'word_freq_mail:        ',\n",
    "'word_freq_receive:     ',\n",
    "'word_freq_will:        ',\n",
    "'word_freq_people:      ',\n",
    "'word_freq_report:      ',\n",
    "'word_freq_addresses:   ',\n",
    "'word_freq_free:        ',\n",
    "'word_freq_business:    ',\n",
    "'word_freq_email:       ',\n",
    "'word_freq_you:         ',\n",
    "'word_freq_credit:      ',\n",
    "'word_freq_your:        ',\n",
    "'word_freq_font:        ',\n",
    "'word_freq_000:         ',\n",
    "'word_freq_money:       ',\n",
    "'word_freq_hp:          ',\n",
    "'word_freq_hpl:         ',\n",
    "'word_freq_george:      ',\n",
    "'word_freq_650:         ',\n",
    "'word_freq_lab:         ',\n",
    "'word_freq_labs:        ',\n",
    "'word_freq_telnet:      ',\n",
    "'word_freq_857:         ',\n",
    "'word_freq_data:        ',\n",
    "'word_freq_415:         ',\n",
    "'word_freq_85:          ',\n",
    "'word_freq_technology:  ',\n",
    "'word_freq_1999:        ',\n",
    "'word_freq_parts:       ',\n",
    "'word_freq_pm:          ',\n",
    "'word_freq_direct:      ',\n",
    "'word_freq_cs:          ',\n",
    "'word_freq_meeting:     ',\n",
    "'word_freq_original:    ',\n",
    "'word_freq_project:     ',\n",
    "'word_freq_re:          ',\n",
    "'word_freq_edu:         ',\n",
    "'word_freq_table:       ',\n",
    "'word_freq_conference:  ',\n",
    "'char_freq_;:           ',\n",
    "'char_freq_(:           ',\n",
    "'char_freq_[:           ',\n",
    "'char_freq_!:           ',\n",
    "'char_freq_$:           ',\n",
    "'char_freq_#:           ',\n",
    "'capital_run_length_average',\n",
    "'capital_run_length_longest',\n",
    "'capital_run_length_total: ',\n",
    "'label']\n",
    "          "
   ]
  },
  {
   "cell_type": "code",
   "execution_count": 6,
   "metadata": {},
   "outputs": [],
   "source": [
    "## Load in the dataset here \n",
    "\n",
    "data = pd.read_csv('spambase/spambase.csv', names = names)\n",
    "X = data.drop('label', axis = 1)\n",
    "y = data.label"
   ]
  },
  {
   "cell_type": "markdown",
   "metadata": {},
   "source": [
    "## 2. Preprocess the data if needed\n",
    "\n",
    "1. Are there any empty values?\n",
    "2. Do you need to transform the data?\n",
    "3. What is the distribution of the positive and negative classes?\n",
    "4. Split the data into training and testing sets\n",
    "\n",
    "Let me give a few hints.  When it comes to scaling the data, we normally just _should_, but in this case we are going to be working with decision trees and I think we learned that they have an interesting property!  \n",
    "\n",
    "We want to look at the distribution of positive (spam) and negative (ham) classes.  So basically we need to look at the count of the labels.  You can use the function `.value_counts()` on `y`.  Note that the function `value_counts` is specific to the Series class, it doesn't work on Dataframes.  Now it's not just enough to look at the raw numbers, I suggest you calculate statistics like \"what percentage of my data is ham? What percentage is spam?  This may help you decide if you should use the `stratify` keyword when splitting your data.\n"
   ]
  },
  {
   "cell_type": "code",
   "execution_count": 7,
   "metadata": {},
   "outputs": [
    {
     "data": {
      "text/plain": [
       "0"
      ]
     },
     "execution_count": 7,
     "metadata": {},
     "output_type": "execute_result"
    }
   ],
   "source": [
    "#data is not scale as we are using a decision tree.\n",
    "#check if data is empty\n",
    "data.isnull().any().sum()"
   ]
  },
  {
   "cell_type": "code",
   "execution_count": 8,
   "metadata": {},
   "outputs": [
    {
     "data": {
      "text/html": [
       "<div>\n",
       "<style scoped>\n",
       "    .dataframe tbody tr th:only-of-type {\n",
       "        vertical-align: middle;\n",
       "    }\n",
       "\n",
       "    .dataframe tbody tr th {\n",
       "        vertical-align: top;\n",
       "    }\n",
       "\n",
       "    .dataframe thead th {\n",
       "        text-align: right;\n",
       "    }\n",
       "</style>\n",
       "<table border=\"1\" class=\"dataframe\">\n",
       "  <thead>\n",
       "    <tr style=\"text-align: right;\">\n",
       "      <th></th>\n",
       "      <th>word_freq_make:</th>\n",
       "      <th>word_freq_address:</th>\n",
       "      <th>word_freq_all:</th>\n",
       "      <th>word_freq_3d:</th>\n",
       "      <th>word_freq_our:</th>\n",
       "      <th>word_freq_over:</th>\n",
       "      <th>word_freq_remove:</th>\n",
       "      <th>word_freq_internet:</th>\n",
       "      <th>word_freq_order:</th>\n",
       "      <th>word_freq_mail:</th>\n",
       "      <th>...</th>\n",
       "      <th>char_freq_;:</th>\n",
       "      <th>char_freq_(:</th>\n",
       "      <th>char_freq_[:</th>\n",
       "      <th>char_freq_!:</th>\n",
       "      <th>char_freq_$:</th>\n",
       "      <th>char_freq_#:</th>\n",
       "      <th>capital_run_length_average</th>\n",
       "      <th>capital_run_length_longest</th>\n",
       "      <th>capital_run_length_total:</th>\n",
       "      <th>label</th>\n",
       "    </tr>\n",
       "  </thead>\n",
       "  <tbody>\n",
       "    <tr>\n",
       "      <th>0</th>\n",
       "      <td>0.00</td>\n",
       "      <td>0.64</td>\n",
       "      <td>0.64</td>\n",
       "      <td>0.0</td>\n",
       "      <td>0.32</td>\n",
       "      <td>0.00</td>\n",
       "      <td>0.00</td>\n",
       "      <td>0.00</td>\n",
       "      <td>0.00</td>\n",
       "      <td>0.00</td>\n",
       "      <td>...</td>\n",
       "      <td>0.00</td>\n",
       "      <td>0.000</td>\n",
       "      <td>0.0</td>\n",
       "      <td>0.778</td>\n",
       "      <td>0.000</td>\n",
       "      <td>0.000</td>\n",
       "      <td>3.756</td>\n",
       "      <td>61</td>\n",
       "      <td>278</td>\n",
       "      <td>1</td>\n",
       "    </tr>\n",
       "    <tr>\n",
       "      <th>1</th>\n",
       "      <td>0.21</td>\n",
       "      <td>0.28</td>\n",
       "      <td>0.50</td>\n",
       "      <td>0.0</td>\n",
       "      <td>0.14</td>\n",
       "      <td>0.28</td>\n",
       "      <td>0.21</td>\n",
       "      <td>0.07</td>\n",
       "      <td>0.00</td>\n",
       "      <td>0.94</td>\n",
       "      <td>...</td>\n",
       "      <td>0.00</td>\n",
       "      <td>0.132</td>\n",
       "      <td>0.0</td>\n",
       "      <td>0.372</td>\n",
       "      <td>0.180</td>\n",
       "      <td>0.048</td>\n",
       "      <td>5.114</td>\n",
       "      <td>101</td>\n",
       "      <td>1028</td>\n",
       "      <td>1</td>\n",
       "    </tr>\n",
       "    <tr>\n",
       "      <th>2</th>\n",
       "      <td>0.06</td>\n",
       "      <td>0.00</td>\n",
       "      <td>0.71</td>\n",
       "      <td>0.0</td>\n",
       "      <td>1.23</td>\n",
       "      <td>0.19</td>\n",
       "      <td>0.19</td>\n",
       "      <td>0.12</td>\n",
       "      <td>0.64</td>\n",
       "      <td>0.25</td>\n",
       "      <td>...</td>\n",
       "      <td>0.01</td>\n",
       "      <td>0.143</td>\n",
       "      <td>0.0</td>\n",
       "      <td>0.276</td>\n",
       "      <td>0.184</td>\n",
       "      <td>0.010</td>\n",
       "      <td>9.821</td>\n",
       "      <td>485</td>\n",
       "      <td>2259</td>\n",
       "      <td>1</td>\n",
       "    </tr>\n",
       "    <tr>\n",
       "      <th>3</th>\n",
       "      <td>0.00</td>\n",
       "      <td>0.00</td>\n",
       "      <td>0.00</td>\n",
       "      <td>0.0</td>\n",
       "      <td>0.63</td>\n",
       "      <td>0.00</td>\n",
       "      <td>0.31</td>\n",
       "      <td>0.63</td>\n",
       "      <td>0.31</td>\n",
       "      <td>0.63</td>\n",
       "      <td>...</td>\n",
       "      <td>0.00</td>\n",
       "      <td>0.137</td>\n",
       "      <td>0.0</td>\n",
       "      <td>0.137</td>\n",
       "      <td>0.000</td>\n",
       "      <td>0.000</td>\n",
       "      <td>3.537</td>\n",
       "      <td>40</td>\n",
       "      <td>191</td>\n",
       "      <td>1</td>\n",
       "    </tr>\n",
       "    <tr>\n",
       "      <th>4</th>\n",
       "      <td>0.00</td>\n",
       "      <td>0.00</td>\n",
       "      <td>0.00</td>\n",
       "      <td>0.0</td>\n",
       "      <td>0.63</td>\n",
       "      <td>0.00</td>\n",
       "      <td>0.31</td>\n",
       "      <td>0.63</td>\n",
       "      <td>0.31</td>\n",
       "      <td>0.63</td>\n",
       "      <td>...</td>\n",
       "      <td>0.00</td>\n",
       "      <td>0.135</td>\n",
       "      <td>0.0</td>\n",
       "      <td>0.135</td>\n",
       "      <td>0.000</td>\n",
       "      <td>0.000</td>\n",
       "      <td>3.537</td>\n",
       "      <td>40</td>\n",
       "      <td>191</td>\n",
       "      <td>1</td>\n",
       "    </tr>\n",
       "  </tbody>\n",
       "</table>\n",
       "<p>5 rows × 58 columns</p>\n",
       "</div>"
      ],
      "text/plain": [
       "   word_freq_make:          word_freq_address:       word_freq_all:           \\\n",
       "0                     0.00                     0.64                     0.64   \n",
       "1                     0.21                     0.28                     0.50   \n",
       "2                     0.06                     0.00                     0.71   \n",
       "3                     0.00                     0.00                     0.00   \n",
       "4                     0.00                     0.00                     0.00   \n",
       "\n",
       "   word_freq_3d:            word_freq_our:           word_freq_over:          \\\n",
       "0                      0.0                     0.32                     0.00   \n",
       "1                      0.0                     0.14                     0.28   \n",
       "2                      0.0                     1.23                     0.19   \n",
       "3                      0.0                     0.63                     0.00   \n",
       "4                      0.0                     0.63                     0.00   \n",
       "\n",
       "   word_freq_remove:        word_freq_internet:      word_freq_order:         \\\n",
       "0                     0.00                     0.00                     0.00   \n",
       "1                     0.21                     0.07                     0.00   \n",
       "2                     0.19                     0.12                     0.64   \n",
       "3                     0.31                     0.63                     0.31   \n",
       "4                     0.31                     0.63                     0.31   \n",
       "\n",
       "   word_freq_mail:          ...  char_freq_;:             \\\n",
       "0                     0.00  ...                     0.00   \n",
       "1                     0.94  ...                     0.00   \n",
       "2                     0.25  ...                     0.01   \n",
       "3                     0.63  ...                     0.00   \n",
       "4                     0.63  ...                     0.00   \n",
       "\n",
       "   char_freq_(:             char_freq_[:             char_freq_!:             \\\n",
       "0                    0.000                      0.0                    0.778   \n",
       "1                    0.132                      0.0                    0.372   \n",
       "2                    0.143                      0.0                    0.276   \n",
       "3                    0.137                      0.0                    0.137   \n",
       "4                    0.135                      0.0                    0.135   \n",
       "\n",
       "   char_freq_$:             char_freq_#:             \\\n",
       "0                    0.000                    0.000   \n",
       "1                    0.180                    0.048   \n",
       "2                    0.184                    0.010   \n",
       "3                    0.000                    0.000   \n",
       "4                    0.000                    0.000   \n",
       "\n",
       "   capital_run_length_average  capital_run_length_longest  \\\n",
       "0                       3.756                          61   \n",
       "1                       5.114                         101   \n",
       "2                       9.821                         485   \n",
       "3                       3.537                          40   \n",
       "4                       3.537                          40   \n",
       "\n",
       "   capital_run_length_total:   label  \n",
       "0                         278      1  \n",
       "1                        1028      1  \n",
       "2                        2259      1  \n",
       "3                         191      1  \n",
       "4                         191      1  \n",
       "\n",
       "[5 rows x 58 columns]"
      ]
     },
     "execution_count": 8,
     "metadata": {},
     "output_type": "execute_result"
    }
   ],
   "source": [
    "data.head()"
   ]
  },
  {
   "cell_type": "code",
   "execution_count": 9,
   "metadata": {},
   "outputs": [
    {
     "data": {
      "text/plain": [
       "0    1\n",
       "1    1\n",
       "2    1\n",
       "3    1\n",
       "4    1\n",
       "5    1\n",
       "6    1\n",
       "7    1\n",
       "8    1\n",
       "9    1\n",
       "Name: label, dtype: int64"
      ]
     },
     "execution_count": 9,
     "metadata": {},
     "output_type": "execute_result"
    }
   ],
   "source": [
    "#df.head()\n",
    "# the 1 is the spam in the result below\n",
    "y[:10]"
   ]
  },
  {
   "cell_type": "code",
   "execution_count": 10,
   "metadata": {},
   "outputs": [
    {
     "data": {
      "text/plain": [
       "0.39404477287546186"
      ]
     },
     "execution_count": 10,
     "metadata": {},
     "output_type": "execute_result"
    }
   ],
   "source": [
    "#if we add the 1 we get the number of spam we have. Then divide those by the total data, then we get 39% spam\n",
    "\n",
    "data.label.sum() / data.shape[0]"
   ]
  },
  {
   "cell_type": "code",
   "execution_count": 11,
   "metadata": {},
   "outputs": [
    {
     "data": {
      "text/plain": [
       "word_freq_make:          word_freq_address:       word_freq_all:           word_freq_3d:            word_freq_our:           word_freq_over:          word_freq_remove:        word_freq_internet:      word_freq_order:         word_freq_mail:          word_freq_receive:       word_freq_will:          word_freq_people:        word_freq_report:        word_freq_addresses:     word_freq_free:          word_freq_business:      word_freq_email:         word_freq_you:           word_freq_credit:        word_freq_your:          word_freq_font:          word_freq_000:           word_freq_money:         word_freq_hp:            word_freq_hpl:           word_freq_george:        word_freq_650:           word_freq_lab:           word_freq_labs:          word_freq_telnet:        word_freq_857:           word_freq_data:          word_freq_415:           word_freq_85:            word_freq_technology:    word_freq_1999:          word_freq_parts:         word_freq_pm:            word_freq_direct:        word_freq_cs:            word_freq_meeting:       word_freq_original:      word_freq_project:       word_freq_re:            word_freq_edu:           word_freq_table:         word_freq_conference:    char_freq_;:             char_freq_(:             char_freq_[:             char_freq_!:             char_freq_$:             char_freq_#:             capital_run_length_average  capital_run_length_longest  capital_run_length_total:   label\n",
       "0.00                     0.00                     0.0                      0.0                      0.0                      0.0                      0.0                      0.00                     0.0                      0.0                      0.0                      0.0                      0.0                      0.0                      0.0                      0.00                     0.0                      0.00                     0.0                      0.0                      0.00                     0.0                      0.00                     0.00                     0.0                      0.0                      20.00                    0.0                      0.0                      0.0                      0.0                      0.0                      0.0                      0.0                      0.0                      0.0                      0.0                      0.0                      0.0                      0.0                      0.0                      0.0                      0.0                      0.0                      0.00                     0.0                      0.0                      0.0                      0.0                      0.000                    0.0                      0.000                    0.000                    0.0                      1.000                       1                           5                           0        69\n",
       "                         14.28                    0.0                      0.0                      0.0                      0.0                      0.0                      0.00                     0.0                      0.0                      0.0                      0.0                      0.0                      0.0                      0.0                      0.00                     0.0                      0.00                     0.0                      0.0                      0.00                     0.0                      0.00                     0.00                     0.0                      0.0                      0.00                     0.0                      0.0                      0.0                      0.0                      0.0                      0.0                      0.0                      0.0                      0.0                      0.0                      0.0                      0.0                      0.0                      0.0                      0.0                      0.0                      0.0                      0.00                     0.0                      0.0                      0.0                      0.0                      0.000                    0.0                      0.000                    0.000                    0.0                      1.800                       5                           9                           0        35\n",
       "                         0.00                     0.0                      0.0                      0.0                      0.0                      0.0                      0.00                     0.0                      0.0                      0.0                      0.0                      0.0                      0.0                      0.0                      0.00                     0.0                      0.00                     0.0                      0.0                      0.00                     0.0                      0.00                     0.00                     0.0                      0.0                      0.00                     0.0                      0.0                      0.0                      0.0                      0.0                      0.0                      0.0                      0.0                      0.0                      0.0                      0.0                      0.0                      0.0                      0.0                      0.0                      0.0                      0.0                      0.00                     0.0                      0.0                      0.0                      0.0                      0.000                    0.0                      0.000                    0.000                    0.0                      1.000                       1                           3                           0        19\n",
       "                                                                                                                                                                                                                                                                                                                                                                                                                                                                                                                                                                                                                                                                                                                                                                                                                                                                                                                                                                                                                                                                                                                                                                                                                                                                                                                                                                                                                                                              4                           0        13\n",
       "2.00                     0.00                     0.0                      0.0                      0.0                      0.0                      0.0                      0.00                     0.0                      0.0                      2.0                      2.0                      0.0                      0.0                      0.0                      0.00                     0.0                      0.00                     2.0                      0.0                      8.00                     0.0                      0.00                     0.00                     0.0                      0.0                      0.00                     0.0                      0.0                      0.0                      0.0                      0.0                      0.0                      0.0                      0.0                      0.0                      0.0                      0.0                      0.0                      0.0                      0.0                      0.0                      0.0                      0.0                      0.00                     0.0                      0.0                      0.0                      0.0                      0.000                    0.0                      0.000                    0.000                    0.0                      5.888                       29                          53                          0        11\n",
       "                                                                                                                                                                                                                                                                                                                                                                                                                                                                                                                                                                                                                                                                                                                                                                                                                                                                                                                                                                                                                                                                                                                                                                                                                                                                                                                                                                                                                                                                                                   ..\n",
       "0.00                     0.00                     0.0                      0.0                      0.0                      0.0                      0.0                      1.11                     0.0                      0.0                      0.0                      0.0                      0.0                      0.0                      0.0                      0.00                     0.0                      0.00                     0.0                      0.0                      0.00                     0.0                      1.11                     0.00                     0.0                      0.0                      0.00                     0.0                      0.0                      0.0                      0.0                      0.0                      0.0                      0.0                      0.0                      0.0                      0.0                      0.0                      0.0                      0.0                      0.0                      0.0                      0.0                      0.0                      1.11                     0.0                      0.0                      0.0                      0.0                      0.208                    0.0                      0.208                    0.416                    0.0                      3.950                       23                          79                          1         1\n",
       "                                                                                                                                                                               1.12                     0.0                      0.0                      0.0                      0.0                      0.0                      0.0                      0.0                      0.00                     0.0                      0.00                     0.0                      0.0                      0.00                     0.0                      1.12                     0.00                     0.0                      0.0                      0.00                     0.0                      0.0                      0.0                      0.0                      0.0                      0.0                      0.0                      0.0                      0.0                      0.0                      0.0                      0.0                      0.0                      0.0                      0.0                      0.0                      0.0                      1.12                     0.0                      0.0                      0.0                      0.0                      0.204                    0.0                      0.408                    0.408                    0.0                      4.100                       25                          82                          1         1\n",
       "                                                                                                                                                                                                                                                                                                                                                                                                                                                                                                                                                                                                                                                                                                                                                                                                                                                                                                                                                                                                                                                                                                                                                                                                                                                                         0.212                    0.0                      0.424                    0.424                    0.0                      4.100                       25                          82                          1         1\n",
       "                                                                                                                                                                               1.17                     0.0                      0.0                      0.0                      0.0                      0.0                      0.0                      0.0                      0.00                     0.0                      0.00                     0.0                      0.0                      0.00                     0.0                      0.00                     0.00                     0.0                      4.7                      1.17                     0.0                      0.0                      0.0                      0.0                      0.0                      0.0                      0.0                      0.0                      0.0                      0.0                      0.0                      0.0                      0.0                      0.0                      0.0                      0.0                      0.0                      0.00                     0.0                      0.0                      0.0                      0.0                      0.196                    0.0                      0.000                    0.000                    0.0                      1.294                       3                           22                          0         1\n",
       "4.54                     4.54                     0.0                      0.0                      0.0                      0.0                      0.0                      0.00                     0.0                      0.0                      0.0                      0.0                      0.0                      0.0                      0.0                      4.54                     0.0                      9.09                     0.0                      0.0                      4.54                     0.0                      0.00                     9.09                     0.0                      0.0                      0.00                     0.0                      0.0                      0.0                      0.0                      0.0                      0.0                      0.0                      0.0                      0.0                      0.0                      0.0                      0.0                      0.0                      0.0                      0.0                      0.0                      0.0                      0.00                     0.0                      0.0                      0.0                      0.0                      0.000                    0.0                      3.076                    0.000                    0.0                      1.428                       4                           10                          1         1\n",
       "Name: count, Length: 4210, dtype: int64"
      ]
     },
     "execution_count": 11,
     "metadata": {},
     "output_type": "execute_result"
    }
   ],
   "source": [
    "#check the data values\n",
    "data.value_counts()\n"
   ]
  },
  {
   "cell_type": "code",
   "execution_count": 12,
   "metadata": {},
   "outputs": [
    {
     "data": {
      "text/html": [
       "<div>\n",
       "<style scoped>\n",
       "    .dataframe tbody tr th:only-of-type {\n",
       "        vertical-align: middle;\n",
       "    }\n",
       "\n",
       "    .dataframe tbody tr th {\n",
       "        vertical-align: top;\n",
       "    }\n",
       "\n",
       "    .dataframe thead th {\n",
       "        text-align: right;\n",
       "    }\n",
       "</style>\n",
       "<table border=\"1\" class=\"dataframe\">\n",
       "  <thead>\n",
       "    <tr style=\"text-align: right;\">\n",
       "      <th></th>\n",
       "      <th>word_freq_make:</th>\n",
       "      <th>word_freq_address:</th>\n",
       "      <th>word_freq_all:</th>\n",
       "      <th>word_freq_3d:</th>\n",
       "      <th>word_freq_our:</th>\n",
       "      <th>word_freq_over:</th>\n",
       "      <th>word_freq_remove:</th>\n",
       "      <th>word_freq_internet:</th>\n",
       "      <th>word_freq_order:</th>\n",
       "      <th>word_freq_mail:</th>\n",
       "      <th>...</th>\n",
       "      <th>char_freq_;:</th>\n",
       "      <th>char_freq_(:</th>\n",
       "      <th>char_freq_[:</th>\n",
       "      <th>char_freq_!:</th>\n",
       "      <th>char_freq_$:</th>\n",
       "      <th>char_freq_#:</th>\n",
       "      <th>capital_run_length_average</th>\n",
       "      <th>capital_run_length_longest</th>\n",
       "      <th>capital_run_length_total:</th>\n",
       "      <th>label</th>\n",
       "    </tr>\n",
       "  </thead>\n",
       "  <tbody>\n",
       "    <tr>\n",
       "      <th>count</th>\n",
       "      <td>4601.000000</td>\n",
       "      <td>4601.000000</td>\n",
       "      <td>4601.000000</td>\n",
       "      <td>4601.000000</td>\n",
       "      <td>4601.000000</td>\n",
       "      <td>4601.000000</td>\n",
       "      <td>4601.000000</td>\n",
       "      <td>4601.000000</td>\n",
       "      <td>4601.000000</td>\n",
       "      <td>4601.000000</td>\n",
       "      <td>...</td>\n",
       "      <td>4601.000000</td>\n",
       "      <td>4601.000000</td>\n",
       "      <td>4601.000000</td>\n",
       "      <td>4601.000000</td>\n",
       "      <td>4601.000000</td>\n",
       "      <td>4601.000000</td>\n",
       "      <td>4601.000000</td>\n",
       "      <td>4601.000000</td>\n",
       "      <td>4601.000000</td>\n",
       "      <td>4601.000000</td>\n",
       "    </tr>\n",
       "    <tr>\n",
       "      <th>mean</th>\n",
       "      <td>0.104553</td>\n",
       "      <td>0.213015</td>\n",
       "      <td>0.280656</td>\n",
       "      <td>0.065425</td>\n",
       "      <td>0.312223</td>\n",
       "      <td>0.095901</td>\n",
       "      <td>0.114208</td>\n",
       "      <td>0.105295</td>\n",
       "      <td>0.090067</td>\n",
       "      <td>0.239413</td>\n",
       "      <td>...</td>\n",
       "      <td>0.038575</td>\n",
       "      <td>0.139030</td>\n",
       "      <td>0.016976</td>\n",
       "      <td>0.269071</td>\n",
       "      <td>0.075811</td>\n",
       "      <td>0.044238</td>\n",
       "      <td>5.191515</td>\n",
       "      <td>52.172789</td>\n",
       "      <td>283.289285</td>\n",
       "      <td>0.394045</td>\n",
       "    </tr>\n",
       "    <tr>\n",
       "      <th>std</th>\n",
       "      <td>0.305358</td>\n",
       "      <td>1.290575</td>\n",
       "      <td>0.504143</td>\n",
       "      <td>1.395151</td>\n",
       "      <td>0.672513</td>\n",
       "      <td>0.273824</td>\n",
       "      <td>0.391441</td>\n",
       "      <td>0.401071</td>\n",
       "      <td>0.278616</td>\n",
       "      <td>0.644755</td>\n",
       "      <td>...</td>\n",
       "      <td>0.243471</td>\n",
       "      <td>0.270355</td>\n",
       "      <td>0.109394</td>\n",
       "      <td>0.815672</td>\n",
       "      <td>0.245882</td>\n",
       "      <td>0.429342</td>\n",
       "      <td>31.729449</td>\n",
       "      <td>194.891310</td>\n",
       "      <td>606.347851</td>\n",
       "      <td>0.488698</td>\n",
       "    </tr>\n",
       "    <tr>\n",
       "      <th>min</th>\n",
       "      <td>0.000000</td>\n",
       "      <td>0.000000</td>\n",
       "      <td>0.000000</td>\n",
       "      <td>0.000000</td>\n",
       "      <td>0.000000</td>\n",
       "      <td>0.000000</td>\n",
       "      <td>0.000000</td>\n",
       "      <td>0.000000</td>\n",
       "      <td>0.000000</td>\n",
       "      <td>0.000000</td>\n",
       "      <td>...</td>\n",
       "      <td>0.000000</td>\n",
       "      <td>0.000000</td>\n",
       "      <td>0.000000</td>\n",
       "      <td>0.000000</td>\n",
       "      <td>0.000000</td>\n",
       "      <td>0.000000</td>\n",
       "      <td>1.000000</td>\n",
       "      <td>1.000000</td>\n",
       "      <td>1.000000</td>\n",
       "      <td>0.000000</td>\n",
       "    </tr>\n",
       "    <tr>\n",
       "      <th>25%</th>\n",
       "      <td>0.000000</td>\n",
       "      <td>0.000000</td>\n",
       "      <td>0.000000</td>\n",
       "      <td>0.000000</td>\n",
       "      <td>0.000000</td>\n",
       "      <td>0.000000</td>\n",
       "      <td>0.000000</td>\n",
       "      <td>0.000000</td>\n",
       "      <td>0.000000</td>\n",
       "      <td>0.000000</td>\n",
       "      <td>...</td>\n",
       "      <td>0.000000</td>\n",
       "      <td>0.000000</td>\n",
       "      <td>0.000000</td>\n",
       "      <td>0.000000</td>\n",
       "      <td>0.000000</td>\n",
       "      <td>0.000000</td>\n",
       "      <td>1.588000</td>\n",
       "      <td>6.000000</td>\n",
       "      <td>35.000000</td>\n",
       "      <td>0.000000</td>\n",
       "    </tr>\n",
       "    <tr>\n",
       "      <th>50%</th>\n",
       "      <td>0.000000</td>\n",
       "      <td>0.000000</td>\n",
       "      <td>0.000000</td>\n",
       "      <td>0.000000</td>\n",
       "      <td>0.000000</td>\n",
       "      <td>0.000000</td>\n",
       "      <td>0.000000</td>\n",
       "      <td>0.000000</td>\n",
       "      <td>0.000000</td>\n",
       "      <td>0.000000</td>\n",
       "      <td>...</td>\n",
       "      <td>0.000000</td>\n",
       "      <td>0.065000</td>\n",
       "      <td>0.000000</td>\n",
       "      <td>0.000000</td>\n",
       "      <td>0.000000</td>\n",
       "      <td>0.000000</td>\n",
       "      <td>2.276000</td>\n",
       "      <td>15.000000</td>\n",
       "      <td>95.000000</td>\n",
       "      <td>0.000000</td>\n",
       "    </tr>\n",
       "    <tr>\n",
       "      <th>75%</th>\n",
       "      <td>0.000000</td>\n",
       "      <td>0.000000</td>\n",
       "      <td>0.420000</td>\n",
       "      <td>0.000000</td>\n",
       "      <td>0.380000</td>\n",
       "      <td>0.000000</td>\n",
       "      <td>0.000000</td>\n",
       "      <td>0.000000</td>\n",
       "      <td>0.000000</td>\n",
       "      <td>0.160000</td>\n",
       "      <td>...</td>\n",
       "      <td>0.000000</td>\n",
       "      <td>0.188000</td>\n",
       "      <td>0.000000</td>\n",
       "      <td>0.315000</td>\n",
       "      <td>0.052000</td>\n",
       "      <td>0.000000</td>\n",
       "      <td>3.706000</td>\n",
       "      <td>43.000000</td>\n",
       "      <td>266.000000</td>\n",
       "      <td>1.000000</td>\n",
       "    </tr>\n",
       "    <tr>\n",
       "      <th>max</th>\n",
       "      <td>4.540000</td>\n",
       "      <td>14.280000</td>\n",
       "      <td>5.100000</td>\n",
       "      <td>42.810000</td>\n",
       "      <td>10.000000</td>\n",
       "      <td>5.880000</td>\n",
       "      <td>7.270000</td>\n",
       "      <td>11.110000</td>\n",
       "      <td>5.260000</td>\n",
       "      <td>18.180000</td>\n",
       "      <td>...</td>\n",
       "      <td>4.385000</td>\n",
       "      <td>9.752000</td>\n",
       "      <td>4.081000</td>\n",
       "      <td>32.478000</td>\n",
       "      <td>6.003000</td>\n",
       "      <td>19.829000</td>\n",
       "      <td>1102.500000</td>\n",
       "      <td>9989.000000</td>\n",
       "      <td>15841.000000</td>\n",
       "      <td>1.000000</td>\n",
       "    </tr>\n",
       "  </tbody>\n",
       "</table>\n",
       "<p>8 rows × 58 columns</p>\n",
       "</div>"
      ],
      "text/plain": [
       "       word_freq_make:          word_freq_address:       \\\n",
       "count              4601.000000              4601.000000   \n",
       "mean                  0.104553                 0.213015   \n",
       "std                   0.305358                 1.290575   \n",
       "min                   0.000000                 0.000000   \n",
       "25%                   0.000000                 0.000000   \n",
       "50%                   0.000000                 0.000000   \n",
       "75%                   0.000000                 0.000000   \n",
       "max                   4.540000                14.280000   \n",
       "\n",
       "       word_freq_all:           word_freq_3d:            \\\n",
       "count              4601.000000              4601.000000   \n",
       "mean                  0.280656                 0.065425   \n",
       "std                   0.504143                 1.395151   \n",
       "min                   0.000000                 0.000000   \n",
       "25%                   0.000000                 0.000000   \n",
       "50%                   0.000000                 0.000000   \n",
       "75%                   0.420000                 0.000000   \n",
       "max                   5.100000                42.810000   \n",
       "\n",
       "       word_freq_our:           word_freq_over:          \\\n",
       "count              4601.000000              4601.000000   \n",
       "mean                  0.312223                 0.095901   \n",
       "std                   0.672513                 0.273824   \n",
       "min                   0.000000                 0.000000   \n",
       "25%                   0.000000                 0.000000   \n",
       "50%                   0.000000                 0.000000   \n",
       "75%                   0.380000                 0.000000   \n",
       "max                  10.000000                 5.880000   \n",
       "\n",
       "       word_freq_remove:        word_freq_internet:      \\\n",
       "count              4601.000000              4601.000000   \n",
       "mean                  0.114208                 0.105295   \n",
       "std                   0.391441                 0.401071   \n",
       "min                   0.000000                 0.000000   \n",
       "25%                   0.000000                 0.000000   \n",
       "50%                   0.000000                 0.000000   \n",
       "75%                   0.000000                 0.000000   \n",
       "max                   7.270000                11.110000   \n",
       "\n",
       "       word_freq_order:         word_freq_mail:          ...  \\\n",
       "count              4601.000000              4601.000000  ...   \n",
       "mean                  0.090067                 0.239413  ...   \n",
       "std                   0.278616                 0.644755  ...   \n",
       "min                   0.000000                 0.000000  ...   \n",
       "25%                   0.000000                 0.000000  ...   \n",
       "50%                   0.000000                 0.000000  ...   \n",
       "75%                   0.000000                 0.160000  ...   \n",
       "max                   5.260000                18.180000  ...   \n",
       "\n",
       "       char_freq_;:             char_freq_(:             \\\n",
       "count              4601.000000              4601.000000   \n",
       "mean                  0.038575                 0.139030   \n",
       "std                   0.243471                 0.270355   \n",
       "min                   0.000000                 0.000000   \n",
       "25%                   0.000000                 0.000000   \n",
       "50%                   0.000000                 0.065000   \n",
       "75%                   0.000000                 0.188000   \n",
       "max                   4.385000                 9.752000   \n",
       "\n",
       "       char_freq_[:             char_freq_!:             \\\n",
       "count              4601.000000              4601.000000   \n",
       "mean                  0.016976                 0.269071   \n",
       "std                   0.109394                 0.815672   \n",
       "min                   0.000000                 0.000000   \n",
       "25%                   0.000000                 0.000000   \n",
       "50%                   0.000000                 0.000000   \n",
       "75%                   0.000000                 0.315000   \n",
       "max                   4.081000                32.478000   \n",
       "\n",
       "       char_freq_$:             char_freq_#:             \\\n",
       "count              4601.000000              4601.000000   \n",
       "mean                  0.075811                 0.044238   \n",
       "std                   0.245882                 0.429342   \n",
       "min                   0.000000                 0.000000   \n",
       "25%                   0.000000                 0.000000   \n",
       "50%                   0.000000                 0.000000   \n",
       "75%                   0.052000                 0.000000   \n",
       "max                   6.003000                19.829000   \n",
       "\n",
       "       capital_run_length_average  capital_run_length_longest  \\\n",
       "count                 4601.000000                 4601.000000   \n",
       "mean                     5.191515                   52.172789   \n",
       "std                     31.729449                  194.891310   \n",
       "min                      1.000000                    1.000000   \n",
       "25%                      1.588000                    6.000000   \n",
       "50%                      2.276000                   15.000000   \n",
       "75%                      3.706000                   43.000000   \n",
       "max                   1102.500000                 9989.000000   \n",
       "\n",
       "       capital_run_length_total:         label  \n",
       "count                 4601.000000  4601.000000  \n",
       "mean                   283.289285     0.394045  \n",
       "std                    606.347851     0.488698  \n",
       "min                      1.000000     0.000000  \n",
       "25%                     35.000000     0.000000  \n",
       "50%                     95.000000     0.000000  \n",
       "75%                    266.000000     1.000000  \n",
       "max                  15841.000000     1.000000  \n",
       "\n",
       "[8 rows x 58 columns]"
      ]
     },
     "execution_count": 12,
     "metadata": {},
     "output_type": "execute_result"
    }
   ],
   "source": [
    "#get the statistics fo this data\n",
    "data.describe()"
   ]
  },
  {
   "cell_type": "code",
   "execution_count": 13,
   "metadata": {},
   "outputs": [
    {
     "data": {
      "text/plain": [
       "label\n",
       "0    2788\n",
       "1    1813\n",
       "Name: count, dtype: int64"
      ]
     },
     "execution_count": 13,
     "metadata": {},
     "output_type": "execute_result"
    }
   ],
   "source": [
    "#check the data values\n",
    "data.label.value_counts()"
   ]
  },
  {
   "cell_type": "code",
   "execution_count": 14,
   "metadata": {},
   "outputs": [],
   "source": [
    "## Split your data with 70% for training, this is somewhat random, but this is how I will do it in the \n",
    "## solution video so you will have similar results. Feel free to change this value and experiment if you like.\n",
    "#70% trining, 30% testing and then stratify\n",
    "X_train, X_test, y_train, y_test = train_test_split(X, y, train_size=.7, stratify = y)\n",
    "\n"
   ]
  },
  {
   "cell_type": "markdown",
   "metadata": {},
   "source": [
    "## 3. Train a Decision Tree Classifier\n",
    "\n",
    "1. What metric should we use? The f1-score or accuracy?\n",
    "\n",
    "Let's start with a default model, we won't specify any settings on the decision tree model for the first training. The following will be a 3-step process\n",
    " * training\n",
    " * getting predictions\n",
    " * evaluating our predictions\n",
    " \n",
    "The question does arise, what should we check our predictions on? The obvious answer is that we should check the predictions on our testing set. That's the set of data that simulates our future unseen data. However in our quest to figure out if we are overfitting or not, it could be very useful to look at the performance of the training set.  Remember when we overfit our polynomials and they touched every point? But then we added data the performance would drop. Similarly if the perfomance of the training data is near perfect, but the testing data is much worse, that _gap_ indicates overfitting. So we will check both training and testing performance.\n"
   ]
  },
  {
   "cell_type": "code",
   "execution_count": 15,
   "metadata": {},
   "outputs": [
    {
     "data": {
      "text/html": [
       "<style>#sk-container-id-1 {color: black;}#sk-container-id-1 pre{padding: 0;}#sk-container-id-1 div.sk-toggleable {background-color: white;}#sk-container-id-1 label.sk-toggleable__label {cursor: pointer;display: block;width: 100%;margin-bottom: 0;padding: 0.3em;box-sizing: border-box;text-align: center;}#sk-container-id-1 label.sk-toggleable__label-arrow:before {content: \"▸\";float: left;margin-right: 0.25em;color: #696969;}#sk-container-id-1 label.sk-toggleable__label-arrow:hover:before {color: black;}#sk-container-id-1 div.sk-estimator:hover label.sk-toggleable__label-arrow:before {color: black;}#sk-container-id-1 div.sk-toggleable__content {max-height: 0;max-width: 0;overflow: hidden;text-align: left;background-color: #f0f8ff;}#sk-container-id-1 div.sk-toggleable__content pre {margin: 0.2em;color: black;border-radius: 0.25em;background-color: #f0f8ff;}#sk-container-id-1 input.sk-toggleable__control:checked~div.sk-toggleable__content {max-height: 200px;max-width: 100%;overflow: auto;}#sk-container-id-1 input.sk-toggleable__control:checked~label.sk-toggleable__label-arrow:before {content: \"▾\";}#sk-container-id-1 div.sk-estimator input.sk-toggleable__control:checked~label.sk-toggleable__label {background-color: #d4ebff;}#sk-container-id-1 div.sk-label input.sk-toggleable__control:checked~label.sk-toggleable__label {background-color: #d4ebff;}#sk-container-id-1 input.sk-hidden--visually {border: 0;clip: rect(1px 1px 1px 1px);clip: rect(1px, 1px, 1px, 1px);height: 1px;margin: -1px;overflow: hidden;padding: 0;position: absolute;width: 1px;}#sk-container-id-1 div.sk-estimator {font-family: monospace;background-color: #f0f8ff;border: 1px dotted black;border-radius: 0.25em;box-sizing: border-box;margin-bottom: 0.5em;}#sk-container-id-1 div.sk-estimator:hover {background-color: #d4ebff;}#sk-container-id-1 div.sk-parallel-item::after {content: \"\";width: 100%;border-bottom: 1px solid gray;flex-grow: 1;}#sk-container-id-1 div.sk-label:hover label.sk-toggleable__label {background-color: #d4ebff;}#sk-container-id-1 div.sk-serial::before {content: \"\";position: absolute;border-left: 1px solid gray;box-sizing: border-box;top: 0;bottom: 0;left: 50%;z-index: 0;}#sk-container-id-1 div.sk-serial {display: flex;flex-direction: column;align-items: center;background-color: white;padding-right: 0.2em;padding-left: 0.2em;position: relative;}#sk-container-id-1 div.sk-item {position: relative;z-index: 1;}#sk-container-id-1 div.sk-parallel {display: flex;align-items: stretch;justify-content: center;background-color: white;position: relative;}#sk-container-id-1 div.sk-item::before, #sk-container-id-1 div.sk-parallel-item::before {content: \"\";position: absolute;border-left: 1px solid gray;box-sizing: border-box;top: 0;bottom: 0;left: 50%;z-index: -1;}#sk-container-id-1 div.sk-parallel-item {display: flex;flex-direction: column;z-index: 1;position: relative;background-color: white;}#sk-container-id-1 div.sk-parallel-item:first-child::after {align-self: flex-end;width: 50%;}#sk-container-id-1 div.sk-parallel-item:last-child::after {align-self: flex-start;width: 50%;}#sk-container-id-1 div.sk-parallel-item:only-child::after {width: 0;}#sk-container-id-1 div.sk-dashed-wrapped {border: 1px dashed gray;margin: 0 0.4em 0.5em 0.4em;box-sizing: border-box;padding-bottom: 0.4em;background-color: white;}#sk-container-id-1 div.sk-label label {font-family: monospace;font-weight: bold;display: inline-block;line-height: 1.2em;}#sk-container-id-1 div.sk-label-container {text-align: center;}#sk-container-id-1 div.sk-container {/* jupyter's `normalize.less` sets `[hidden] { display: none; }` but bootstrap.min.css set `[hidden] { display: none !important; }` so we also need the `!important` here to be able to override the default hidden behavior on the sphinx rendered scikit-learn.org. See: https://github.com/scikit-learn/scikit-learn/issues/21755 */display: inline-block !important;position: relative;}#sk-container-id-1 div.sk-text-repr-fallback {display: none;}</style><div id=\"sk-container-id-1\" class=\"sk-top-container\"><div class=\"sk-text-repr-fallback\"><pre>DecisionTreeClassifier()</pre><b>In a Jupyter environment, please rerun this cell to show the HTML representation or trust the notebook. <br />On GitHub, the HTML representation is unable to render, please try loading this page with nbviewer.org.</b></div><div class=\"sk-container\" hidden><div class=\"sk-item\"><div class=\"sk-estimator sk-toggleable\"><input class=\"sk-toggleable__control sk-hidden--visually\" id=\"sk-estimator-id-1\" type=\"checkbox\" checked><label for=\"sk-estimator-id-1\" class=\"sk-toggleable__label sk-toggleable__label-arrow\">DecisionTreeClassifier</label><div class=\"sk-toggleable__content\"><pre>DecisionTreeClassifier()</pre></div></div></div></div></div>"
      ],
      "text/plain": [
       "DecisionTreeClassifier()"
      ]
     },
     "execution_count": 15,
     "metadata": {},
     "output_type": "execute_result"
    }
   ],
   "source": [
    "#data is not scale as we are using a decision tree.\n",
    "#check if data is empty\n",
    "data.isnull().any().sum()"
   ]
  },
  {
   "cell_type": "code",
   "execution_count": 19,
   "metadata": {},
   "outputs": [
    {
     "data": {
      "text/html": [
       "<style>#sk-container-id-2 {color: black;}#sk-container-id-2 pre{padding: 0;}#sk-container-id-2 div.sk-toggleable {background-color: white;}#sk-container-id-2 label.sk-toggleable__label {cursor: pointer;display: block;width: 100%;margin-bottom: 0;padding: 0.3em;box-sizing: border-box;text-align: center;}#sk-container-id-2 label.sk-toggleable__label-arrow:before {content: \"▸\";float: left;margin-right: 0.25em;color: #696969;}#sk-container-id-2 label.sk-toggleable__label-arrow:hover:before {color: black;}#sk-container-id-2 div.sk-estimator:hover label.sk-toggleable__label-arrow:before {color: black;}#sk-container-id-2 div.sk-toggleable__content {max-height: 0;max-width: 0;overflow: hidden;text-align: left;background-color: #f0f8ff;}#sk-container-id-2 div.sk-toggleable__content pre {margin: 0.2em;color: black;border-radius: 0.25em;background-color: #f0f8ff;}#sk-container-id-2 input.sk-toggleable__control:checked~div.sk-toggleable__content {max-height: 200px;max-width: 100%;overflow: auto;}#sk-container-id-2 input.sk-toggleable__control:checked~label.sk-toggleable__label-arrow:before {content: \"▾\";}#sk-container-id-2 div.sk-estimator input.sk-toggleable__control:checked~label.sk-toggleable__label {background-color: #d4ebff;}#sk-container-id-2 div.sk-label input.sk-toggleable__control:checked~label.sk-toggleable__label {background-color: #d4ebff;}#sk-container-id-2 input.sk-hidden--visually {border: 0;clip: rect(1px 1px 1px 1px);clip: rect(1px, 1px, 1px, 1px);height: 1px;margin: -1px;overflow: hidden;padding: 0;position: absolute;width: 1px;}#sk-container-id-2 div.sk-estimator {font-family: monospace;background-color: #f0f8ff;border: 1px dotted black;border-radius: 0.25em;box-sizing: border-box;margin-bottom: 0.5em;}#sk-container-id-2 div.sk-estimator:hover {background-color: #d4ebff;}#sk-container-id-2 div.sk-parallel-item::after {content: \"\";width: 100%;border-bottom: 1px solid gray;flex-grow: 1;}#sk-container-id-2 div.sk-label:hover label.sk-toggleable__label {background-color: #d4ebff;}#sk-container-id-2 div.sk-serial::before {content: \"\";position: absolute;border-left: 1px solid gray;box-sizing: border-box;top: 0;bottom: 0;left: 50%;z-index: 0;}#sk-container-id-2 div.sk-serial {display: flex;flex-direction: column;align-items: center;background-color: white;padding-right: 0.2em;padding-left: 0.2em;position: relative;}#sk-container-id-2 div.sk-item {position: relative;z-index: 1;}#sk-container-id-2 div.sk-parallel {display: flex;align-items: stretch;justify-content: center;background-color: white;position: relative;}#sk-container-id-2 div.sk-item::before, #sk-container-id-2 div.sk-parallel-item::before {content: \"\";position: absolute;border-left: 1px solid gray;box-sizing: border-box;top: 0;bottom: 0;left: 50%;z-index: -1;}#sk-container-id-2 div.sk-parallel-item {display: flex;flex-direction: column;z-index: 1;position: relative;background-color: white;}#sk-container-id-2 div.sk-parallel-item:first-child::after {align-self: flex-end;width: 50%;}#sk-container-id-2 div.sk-parallel-item:last-child::after {align-self: flex-start;width: 50%;}#sk-container-id-2 div.sk-parallel-item:only-child::after {width: 0;}#sk-container-id-2 div.sk-dashed-wrapped {border: 1px dashed gray;margin: 0 0.4em 0.5em 0.4em;box-sizing: border-box;padding-bottom: 0.4em;background-color: white;}#sk-container-id-2 div.sk-label label {font-family: monospace;font-weight: bold;display: inline-block;line-height: 1.2em;}#sk-container-id-2 div.sk-label-container {text-align: center;}#sk-container-id-2 div.sk-container {/* jupyter's `normalize.less` sets `[hidden] { display: none; }` but bootstrap.min.css set `[hidden] { display: none !important; }` so we also need the `!important` here to be able to override the default hidden behavior on the sphinx rendered scikit-learn.org. See: https://github.com/scikit-learn/scikit-learn/issues/21755 */display: inline-block !important;position: relative;}#sk-container-id-2 div.sk-text-repr-fallback {display: none;}</style><div id=\"sk-container-id-2\" class=\"sk-top-container\"><div class=\"sk-text-repr-fallback\"><pre>DecisionTreeClassifier()</pre><b>In a Jupyter environment, please rerun this cell to show the HTML representation or trust the notebook. <br />On GitHub, the HTML representation is unable to render, please try loading this page with nbviewer.org.</b></div><div class=\"sk-container\" hidden><div class=\"sk-item\"><div class=\"sk-estimator sk-toggleable\"><input class=\"sk-toggleable__control sk-hidden--visually\" id=\"sk-estimator-id-2\" type=\"checkbox\" checked><label for=\"sk-estimator-id-2\" class=\"sk-toggleable__label sk-toggleable__label-arrow\">DecisionTreeClassifier</label><div class=\"sk-toggleable__content\"><pre>DecisionTreeClassifier()</pre></div></div></div></div></div>"
      ],
      "text/plain": [
       "DecisionTreeClassifier()"
      ]
     },
     "execution_count": 19,
     "metadata": {},
     "output_type": "execute_result"
    }
   ],
   "source": [
    "DecisionTreeClassifier(class_weight=None, criterion='gini', max_depth=None, max_features=None, max_leaf_nodes=None, min_impurity_decrease=0.0, min_samples_leaf=1, min_samples_split=2, random_state=None, splitter='best')\n"
   ]
  },
  {
   "cell_type": "code",
   "execution_count": 21,
   "metadata": {},
   "outputs": [],
   "source": [
    "## get predictions from the model on the training data and the testing data. did the model overfit?\n",
    "\n",
    "train_preds = dtc.predict(X_train)\n",
    "test_preds = dtc.predict(X_test)"
   ]
  },
  {
   "cell_type": "code",
   "execution_count": 22,
   "metadata": {},
   "outputs": [
    {
     "name": "stdout",
     "output_type": "stream",
     "text": [
      "F1-score training is 0.9996058336618052 \n",
      "\n",
      "F1-score testing is 0.8865058087578196\n"
     ]
    }
   ],
   "source": [
    "## evaluate the predictions\n",
    "## Note that the order of the arguments is **very** important for f1-score\n",
    "#f-socre harmonic mean of a system's precision and recall values.\n",
    "#it gives equal importance to precission and recall.\n",
    "\n",
    "print(f\"F1-score training is {f1_score(y_train, train_preds)} \\n\")\n",
    "print(f\"F1-score testing is {f1_score(y_test, test_preds)}\")\n",
    "\n",
    "# the 0.89 for te testing means it overfit, now we need to adjust it\n",
    "\n",
    "\n"
   ]
  },
  {
   "cell_type": "markdown",
   "metadata": {},
   "source": [
    "## 4. Did we overfit? Either way, let's try out some of the decision tree parameters\n",
    "\n",
    "Go ahead and try out some different tree parameters. \n",
    "\n",
    "* `max_depth`\n",
    "* `min_samples_split`\n",
    "* `min_samples_leaf`\n",
    "\n",
    "All three of these parameters will control the complexity of the tree.  Before you try them out, let's take a quick quiz:\n",
    "\n",
    "* increasing `max_depth` will : **Increase** or **Decrease** overfitting?\n",
    "* increasing `min_samples_split` will: **Increase** or **Decrease** overfitting?\n",
    "* increasing `min_samples_leaf` will: **Increase** or **Decrease** overfitting?\n",
    "\n",
    "It's very important to know the answer to these questions - because other wise you can't tune the parameters correctly. If you aren't sure go back and check the quiz on this very topic.\n",
    "\n",
    "Go ahead and try at least 3 values for each parameter. Then if you try 3 values for each combination, you actually would try 9 total parameters. You can see where this is going -- `for` loops! At this point I encourage you to just try whatever method you want, you can ad-hoc try different values or you can get robust with for-loops. Whatever you are inspired to do. The main point is to try out some values and see what you find.  What helps improve our testing performance the best?"
   ]
  },
  {
   "cell_type": "code",
   "execution_count": 23,
   "metadata": {},
   "outputs": [],
   "source": [
    "#clf = DecisionTreeClassifier(max_depth=5)"
   ]
  },
  {
   "cell_type": "code",
   "execution_count": 24,
   "metadata": {},
   "outputs": [],
   "source": [
    "#clf = DecisionTreeClassifier(min_samples_split=20)"
   ]
  },
  {
   "cell_type": "code",
   "execution_count": 25,
   "metadata": {},
   "outputs": [],
   "source": [
    "#clf = DecisionTreeClassifier(min_samples_leaf=10)"
   ]
  },
  {
   "cell_type": "markdown",
   "metadata": {},
   "source": [
    "# Ok, now let's do it systematically\n",
    "\n",
    "Let's do it with some for loops. This will lead us to having more data than we can \"look\" at, so naturally we will plot it.\n",
    "I've started the for loop for you, you need to fill in the inner part."
   ]
  },
  {
   "cell_type": "code",
   "execution_count": 26,
   "metadata": {},
   "outputs": [
    {
     "name": "stdout",
     "output_type": "stream",
     "text": [
      "[0.8067226890756303, 0.8634361233480176, 0.8865721434528773, 0.9006677796327213, 0.9030910609857978, 0.9200323101777059, 0.9367190648931882, 0.9490703314470493, 0.9587174348697395, 0.9658497388509442, 0.971107544141252, 0.9734939759036144, 0.97508038585209, 0.9762957010847729, 0.9775100401606426, 0.9795427196149218, 0.9811320754716981, 0.9819639278557114, 0.9843937575030013, 0.9872306464485235, 0.9884508164078056, 0.9900517309988062, 0.990854870775348, 0.9916633584755854, 0.9932566441888139, 0.9932566441888139, 0.9952531645569621, 0.9968379446640316, 0.9972342947451601, 0.9980260560600078, 0.999211356466877, 0.999211356466877, 0.999211356466877, 0.999211356466877, 0.999211356466877, 0.9996058336618052, 0.9996058336618052, 0.9996058336618052, 0.9996058336618052, 0.9996058336618052, 0.9996058336618052, 0.9996058336618052, 0.9996058336618052, 0.9996058336618052, 0.9996058336618052, 0.9996058336618052, 0.9996058336618052, 0.9996058336618052]\n",
      " \n",
      "[0.8201438848920863, 0.8529411764705882, 0.8865384615384615, 0.8884615384615384, 0.8884615384615384, 0.8899253731343283, 0.903828197945845, 0.897003745318352, 0.8996282527881041, 0.8975791433891993, 0.8987929433611885, 0.9035250463821893, 0.8971269694161259, 0.8973880597014925, 0.8907407407407406, 0.8954671600370028, 0.8962962962962964, 0.8944444444444445, 0.8964879852125693, 0.8903225806451613, 0.8925619834710744, 0.89623507805326, 0.8878676470588236, 0.8937728937728938, 0.8919164396003634, 0.8878760255241568, 0.889090909090909, 0.8820326678765881, 0.8880800727934487, 0.889487870619946, 0.8870822041553749, 0.8892889288928892, 0.8868940754039496, 0.8886894075403949, 0.8884892086330936, 0.889487870619946, 0.8836789900811541, 0.8800721370604148, 0.8872858431018936, 0.8862815884476535, 0.8911070780399274, 0.8836789900811541, 0.8926961226330027, 0.8823000898472596, 0.8882882882882882, 0.8902991840435177, 0.8925022583559169, 0.8850987432675045]\n"
     ]
    }
   ],
   "source": [
    "train_results = []\n",
    "test_results = []\n",
    "for i in range(2,50): # feel free to change these, I just threw out a reasonable option here.\n",
    "    \n",
    "    #dtc = DecisionTreeClassifier(=i)  #select a parameter to check\n",
    "                                      # train the model\n",
    "                                      # get predictions for both training and test\n",
    "                                     # evaluate them and append them into the our lists.\n",
    "    dtc = DecisionTreeClassifier(max_depth = i)\n",
    "    dtc.fit(X_train, y_train)\n",
    "    train_preds = dtc.predict(X_train)\n",
    "    test_preds = dtc.predict(X_test)\n",
    "    train_results.append(f1_score(y_train, train_preds))\n",
    "    test_results.append(f1_score(y_test, test_preds))\n",
    "\n",
    "print(train_results)\n",
    "print ( \" \")\n",
    "print (test_results)"
   ]
  },
  {
   "cell_type": "markdown",
   "metadata": {},
   "source": [
    "## That's a lot of numbers!\n",
    "\n",
    "What do all those numbers tell us? Well we can pick out the best values using something like `np.max` and then we can relate it to the best parameter with the argument that correlates to that value (so depth 2 gave us .85 score etc).  But I think we'll find more interesting to plot these points.  I've provided the code for you below."
   ]
  },
  {
   "cell_type": "code",
   "execution_count": 27,
   "metadata": {},
   "outputs": [
    {
     "data": {
      "image/png": "[encoded data removed]",
      "text/plain": [
       "<Figure size 1000x600 with 1 Axes>"
      ]
     },
     "metadata": {},
     "output_type": "display_data"
    }
   ],
   "source": [
    "fig,ax = plt.subplots(figsize = (10,6));\n",
    "ax.plot(train_results, color = 'r', label = 'train')\n",
    "ax.plot(test_results, color = 'b', label = 'test')\n",
    "ax.set_title('Max_Depth')\n",
    "ax.set_xlabel('max_depth')\n",
    "ax.set_ylabel('value')\n",
    "ax.legend();"
   ]
  },
  {
   "cell_type": "markdown",
   "metadata": {},
   "source": [
    "## This graph is called a validation curve\n",
    "\n",
    "What we have done is plotted the performance of the training and testing data against a parameter that was varied. How do we read this graph?\n",
    "What information can you glean?\n",
    "When does our model start to overfit?  \n",
    "Based on what you see here, what do you think the best choice for the parameter you were checking is?  That is, looking at the graph, what value would you choose for a spam detection model that you were going to deploy? Don't forget the purpose of the model!\n"
   ]
  },
  {
   "cell_type": "markdown",
   "metadata": {},
   "source": [
    "#### Your answers here"
   ]
  },
  {
   "cell_type": "code",
   "execution_count": null,
   "metadata": {},
   "outputs": [],
   "source": [
    "20"
   ]
  },
  {
   "cell_type": "code",
   "execution_count": 28,
   "metadata": {},
   "outputs": [],
   "source": [
    "train_results = []\n",
    "test_results = []\n",
    "for i in range (2, 50):\n",
    "    dtc = DecisionTreeClassifier(min_samples_split = i)\n",
    "    dtc.fit(X_train, y_train)\n",
    "    train_preds = dtc.predict(X_train)\n",
    "    test_preds = dtc.predict(X_test)\n",
    "    train_results.append(f1_score(y_train, train_preds))\n",
    "    test_results.append(f1_score(y_test, test_preds))\n"
   ]
  },
  {
   "cell_type": "code",
   "execution_count": 29,
   "metadata": {},
   "outputs": [
    {
     "data": {
      "image/png": "[encoded data removed]",
      "text/plain": [
       "<Figure size 1000x600 with 1 Axes>"
      ]
     },
     "metadata": {},
     "output_type": "display_data"
    }
   ],
   "source": [
    "fig,ax = plt.subplots(figsize = (10, 6));\n",
    "ax.plot(train_results, color = 'r', label = 'train')\n",
    "ax.plot(test_results, color = 'b', label = 'test')\n",
    "ax.set_title('min_split')\n",
    "ax.legend();\n",
    "\n",
    "\n",
    "#as samples gt larger nothing change with testing. training gets worse as more smaples are needed to split, more details and purity os hard to fit. We need to chose the best testing."
   ]
  },
  {
   "cell_type": "code",
   "execution_count": 30,
   "metadata": {},
   "outputs": [],
   "source": [
    "train_results = []\n",
    "test_results = []\n",
    "for i in range (2, 50):\n",
    "    dtc = DecisionTreeClassifier(min_samples_leaf = i)\n",
    "    dtc.fit(X_train, y_train)\n",
    "    train_preds = dtc.predict(X_train)\n",
    "    test_preds = dtc.predict(X_test)\n",
    "    train_results.append(f1_score(y_train, train_preds))\n",
    "    test_results.append(f1_score(y_test, test_preds))"
   ]
  },
  {
   "cell_type": "code",
   "execution_count": 31,
   "metadata": {},
   "outputs": [
    {
     "data": {
      "image/png": "[encoded data removed]",
      "text/plain": [
       "<Figure size 1000x600 with 1 Axes>"
      ]
     },
     "metadata": {},
     "output_type": "display_data"
    }
   ],
   "source": [
    "fig,ax = plt.subplots(figsize = (10, 6));\n",
    "ax.plot(train_results, color = 'r', label = 'train')\n",
    "ax.plot(test_results, color = 'b', label = 'test')\n",
    "ax.set_title('min_split')\n",
    "ax.legend();\n",
    "\n",
    "#This is the validation curve graph: the min_samples_leaft is better, because the testing data is better aeound0 or 5. At 2 better score.Expect that when figthinh overfiting get better claissfication.\n"
   ]
  },
  {
   "cell_type": "markdown",
   "metadata": {},
   "source": [
    "# Finally... we ... made a mistake!\n",
    "Do you see what the giant mistake we did? Go ahead and let us know below.\n",
    "If you don't see the mistake... don't worry I'll explain in the next unit!\n"
   ]
  },
  {
   "cell_type": "markdown",
   "metadata": {},
   "source": [
    "#### Your answer here"
   ]
  },
  {
   "cell_type": "code",
   "execution_count": null,
   "metadata": {},
   "outputs": [],
   "source": [
    "#any time you look at the model’s performance against a test set and select or alter a model according to those scores, you’re overfitting. Many time you look at the model’s performance against a test set and select or alter a model according to those scores, you’re overfitting. \n",
    "#so we need to create a new data set."
   ]
  }
 ],
 "metadata": {
  "kernelspec": {
   "display_name": "Python 3",
   "language": "python",
   "name": "python3"
  },
  "language_info": {
   "codemirror_mode": {
    "name": "ipython",
    "version": 3
   },
   "file_extension": ".py",
   "mimetype": "text/x-python",
   "name": "python",
   "nbconvert_exporter": "python",
   "pygments_lexer": "ipython3",
   "version": "3.11.5"
  }
 },
 "nbformat": 4,
 "nbformat_minor": 4
}
